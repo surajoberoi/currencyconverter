{
 "cells": [
  {
   "cell_type": "code",
   "execution_count": 3,
   "metadata": {},
   "outputs": [
    {
     "name": "stdout",
     "output_type": "stream",
     "text": [
      "please enter the date( in the format 'YYYY-MM-DD' or 'latest'): latest\n",
      "convert from (currency): USD\n",
      "convert to (currency): INR\n",
      "How much USD do you want to convert: 5000\n",
      "\n",
      "5000.0 USD is equal to 381556.54734499997 INR, based upon exchange rates on 2020-04-09\n"
     ]
    }
   ],
   "source": [
    "import requests\n",
    "base_url = \"https://api.exchangeratesapi.io\"\n",
    "date = input(\"please enter the date( in the format 'YYYY-MM-DD' or 'latest'): \")\n",
    "base = input(\"convert from (currency): \")\n",
    "curr = input(\"convert to (currency): \")\n",
    "quan = float(input(\"How much {} do you want to convert: \".format(base)))\n",
    "\n",
    "url = base_url + \"/\" + date + \"?base=\" + base + \"&symbols=\" + curr\n",
    "response = requests.get(url)\n",
    "\n",
    "if(response.ok is False):\n",
    "    print(\"\\nError {}:\".format(response.status_code))\n",
    "    print(response.json()['error'])\n",
    "\n",
    "else:\n",
    "    data = response.json()\n",
    "    rate = data['rates'][curr]\n",
    "    \n",
    "    result = quan*rate\n",
    "    \n",
    "    print(\"\\n{0} {1} is equal to {2} {3}, based upon exchange rates on {4}\".format(quan,base,result,curr,data['date']))\n",
    "\n"
   ]
  },
  {
   "cell_type": "code",
   "execution_count": null,
   "metadata": {},
   "outputs": [],
   "source": []
  }
 ],
 "metadata": {
  "kernelspec": {
   "display_name": "Python 3",
   "language": "python",
   "name": "python3"
  },
  "language_info": {
   "codemirror_mode": {
    "name": "ipython",
    "version": 3
   },
   "file_extension": ".py",
   "mimetype": "text/x-python",
   "name": "python",
   "nbconvert_exporter": "python",
   "pygments_lexer": "ipython3",
   "version": "3.7.6"
  }
 },
 "nbformat": 4,
 "nbformat_minor": 4
}
